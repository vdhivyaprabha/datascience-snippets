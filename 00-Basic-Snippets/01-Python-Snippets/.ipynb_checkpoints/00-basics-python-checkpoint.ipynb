{
 "cells": [
  {
   "cell_type": "code",
   "execution_count": 2,
   "id": "ad45836f",
   "metadata": {},
   "outputs": [
    {
     "name": "stdout",
     "output_type": "stream",
     "text": [
      "Enter a number :25\n",
      "The number entered by the user :  25\n",
      "The data type of the Input is :  <class 'int'>\n"
     ]
    }
   ],
   "source": [
    "# Taking input from the user\n",
    "input_instance = int(input(\"Enter a number :\"))\n",
    "print(\"The number entered by the user : \", input_instance)\n",
    "print(\"The data type of the Input is : \", type(input_instance))"
   ]
  },
  {
   "cell_type": "code",
   "execution_count": 4,
   "id": "01e96c0d",
   "metadata": {},
   "outputs": [
    {
     "name": "stdout",
     "output_type": "stream",
     "text": [
      "The value of input_integer is : 23\n",
      "The type of input_integer is : <class 'int'>\n",
      "The value of input_float is : 23.05\n",
      "The type of input_float is : <class 'float'>\n",
      "The value of input_complex is : (10+3j)\n",
      "The type of input_complex is : <class 'complex'>\n",
      "The value of input_string is : Hello World\n",
      "The type of input_string is : <class 'str'>\n",
      "The value of input_string is : ['Harry Potter', 'Hermoinie Granger']\n",
      "The type of input_string is : <class 'list'>\n",
      "The value of input_string is : (934, 'Hogwards Express')\n",
      "The type of input_string is : <class 'tuple'>\n",
      "The value of input_dict is : {'name': 'harrypotter', 'house-color': 'Scarlet and gold', 'house': 'Gryffindor'}\n",
      "The type of input_dict is : <class 'dict'>\n",
      "The value of input_boolean is : True\n",
      "The type of input_boolean is : <class 'bool'>\n"
     ]
    }
   ],
   "source": [
    "# Defining datatypes in python.\n",
    "input_integer = 23\n",
    "print(\"The value of input_integer is :\", input_integer)\n",
    "print(\"The type of input_integer is :\", type(input_integer))\n",
    "input_float = 23.05\n",
    "print(\"The value of input_float is :\", input_float)\n",
    "print(\"The type of input_float is :\", type(input_float))\n",
    "input_complex=10+3j\n",
    "print(\"The value of input_complex is :\", input_complex)\n",
    "print(\"The type of input_complex is :\", type(input_complex))\n",
    "input_string = 'Hello World'\n",
    "print(\"The value of input_string is :\", input_string)\n",
    "print(\"The type of input_string is :\", type(input_string))\n",
    "input_list = [\"Harry Potter\", \"Hermoinie Granger\"]\n",
    "print(\"The value of input_string is :\", input_list)\n",
    "print(\"The type of input_string is :\", type(input_list))\n",
    "input_tuple = (934, 'Hogwards Express')\n",
    "print(\"The value of input_string is :\", input_tuple)\n",
    "print(\"The type of input_string is :\", type(input_tuple))\n",
    "input_dict = {'name': 'harrypotter','house-color':'Scarlet and gold', 'house': 'Gryffindor'}\n",
    "print(\"The value of input_dict is :\", input_dict)\n",
    "print(\"The type of input_dict is :\", type(input_dict))\n",
    "input_boolean = True\n",
    "print(\"The value of input_boolean is :\", input_boolean)\n",
    "print(\"The type of input_boolean is :\", type(input_boolean))"
   ]
  },
  {
   "cell_type": "code",
   "execution_count": 7,
   "id": "adaace7c",
   "metadata": {},
   "outputs": [
    {
     "ename": "SyntaxError",
     "evalue": "unmatched ')' (3393843393.py, line 5)",
     "output_type": "error",
     "traceback": [
      "\u001b[1;36m  Cell \u001b[1;32mIn[7], line 5\u001b[1;36m\u001b[0m\n\u001b[1;33m    input_integer3 = int\"india\")\u001b[0m\n\u001b[1;37m                               ^\u001b[0m\n\u001b[1;31mSyntaxError\u001b[0m\u001b[1;31m:\u001b[0m unmatched ')'\n"
     ]
    }
   ],
   "source": [
    "# data type Conversions - various data types to int\n",
    "input_integer1 = int(23)\n",
    "input_integer2 = int(24.5)\n",
    "input_integer3 = int(0.23)\n",
    "input_integer3 = int(\"india\")\n",
    "print(\"The value of input_integer1 is :\", input_integer1)\n",
    "print(\"The value of input_integer2 is :\", input_integer2)\n",
    "print(\"The value of input_integer3 is :\", input_integer3)\n"
   ]
  },
  {
   "cell_type": "code",
   "execution_count": null,
   "id": "36812422",
   "metadata": {},
   "outputs": [],
   "source": []
  }
 ],
 "metadata": {
  "kernelspec": {
   "display_name": "Python 3 (ipykernel)",
   "language": "python",
   "name": "python3"
  },
  "language_info": {
   "codemirror_mode": {
    "name": "ipython",
    "version": 3
   },
   "file_extension": ".py",
   "mimetype": "text/x-python",
   "name": "python",
   "nbconvert_exporter": "python",
   "pygments_lexer": "ipython3",
   "version": "3.11.2"
  }
 },
 "nbformat": 4,
 "nbformat_minor": 5
}
