{
 "cells": [
  {
   "cell_type": "markdown",
   "id": "23014a32",
   "metadata": {},
   "source": [
    "#### Decision Making Statements"
   ]
  },
  {
   "cell_type": "code",
   "execution_count": 7,
   "id": "664600d6",
   "metadata": {},
   "outputs": [],
   "source": [
    "first_input = 34\n",
    "second_input = 23"
   ]
  },
  {
   "cell_type": "code",
   "execution_count": 8,
   "id": "d06572cc",
   "metadata": {},
   "outputs": [
    {
     "name": "stdout",
     "output_type": "stream",
     "text": [
      "First Number is the Largest Among Two Numbers\n"
     ]
    }
   ],
   "source": [
    "# Demonstation of the If Statements.\n",
    "\n",
    "if (first_input > second_input):\n",
    "  print(\"First Number is the Largest Among Two Numbers\")"
   ]
  },
  {
   "cell_type": "code",
   "execution_count": 9,
   "id": "f5da8c0b",
   "metadata": {},
   "outputs": [
    {
     "name": "stdout",
     "output_type": "stream",
     "text": [
      "second_input is the Largest Among Two INputs\n"
     ]
    }
   ],
   "source": [
    "# Demonstration of If Else Statements.\n",
    "first_input = 23\n",
    "second_input = 34\n",
    "if (first_input > second_input):\n",
    "    print(\"first_input is the Largest Among Two Inputs\")\n",
    "else:\n",
    "    print(\"second_input is the Largest Among Two INputs\")"
   ]
  },
  {
   "cell_type": "code",
   "execution_count": 10,
   "id": "5348297c",
   "metadata": {},
   "outputs": [
    {
     "name": "stdout",
     "output_type": "stream",
     "text": [
      "Both the Inputs are Equal\n"
     ]
    }
   ],
   "source": [
    "# Demonstration of If Else and Else if Statements.\n",
    "first_input = 34\n",
    "second_input = 34\n",
    "if (first_input > second_input):\n",
    "    print(\"first_input is the Largest Among Two Inputs\")\n",
    "elif (second_input > first_input):\n",
    "    print(\"second_input is the Largest Among Two INputs\")\n",
    "else:\n",
    "    print(\"Both the Inputs are Equal\")"
   ]
  },
  {
   "cell_type": "markdown",
   "id": "ee029091",
   "metadata": {},
   "source": [
    "#### Loops and Iterations"
   ]
  },
  {
   "cell_type": "code",
   "execution_count": 12,
   "id": "14a263f5",
   "metadata": {},
   "outputs": [
    {
     "name": "stdout",
     "output_type": "stream",
     "text": [
      "Loop is at the index ::  0\n",
      "Loop is at the index ::  1\n",
      "Loop is at the index ::  2\n",
      "Loop is at the index ::  3\n",
      "Loop is at the index ::  4\n",
      "Loop is at the index ::  5\n",
      "Loop is at the index ::  6\n",
      "Loop is at the index ::  7\n",
      "Loop is at the index ::  8\n",
      "Loop is at the index ::  9\n",
      "Loop is at the index ::  10\n"
     ]
    }
   ],
   "source": [
    "# Print first ten numbers using While Loop\n",
    "\n",
    "index = 0\n",
    "while (index <= 10):\n",
    "    print(\"Loop is at the index :: \",index)\n",
    "    index = index + 1"
   ]
  },
  {
   "cell_type": "code",
   "execution_count": 14,
   "id": "7cdbc3bf",
   "metadata": {},
   "outputs": [
    {
     "name": "stdout",
     "output_type": "stream",
     "text": [
      "Loop is at the index ::  0\n",
      "Loop is at the index ::  1\n",
      "Loop is at the index ::  2\n",
      "Loop is at the index ::  3\n",
      "Loop is at the index ::  4\n",
      "Loop is at the index ::  5\n",
      "Loop is at the index ::  6\n",
      "Loop is at the index ::  7\n",
      "Loop is at the index ::  8\n",
      "Loop is at the index ::  9\n",
      "Loop is at the index ::  10\n"
     ]
    }
   ],
   "source": [
    "# Print the first ten numbers\n",
    "\n",
    "for index in range(0,11,1):\n",
    "    print(\"Loop is at the index :: \",index)"
   ]
  },
  {
   "cell_type": "code",
   "execution_count": 15,
   "id": "bbc5f2ff",
   "metadata": {},
   "outputs": [
    {
     "name": "stdout",
     "output_type": "stream",
     "text": [
      "Loop is at the index ::  0\n",
      "Loop is at the index ::  2\n",
      "Loop is at the index ::  4\n",
      "Loop is at the index ::  6\n",
      "Loop is at the index ::  8\n",
      "Loop is at the index ::  10\n"
     ]
    }
   ],
   "source": [
    "# printing using for loop with step index 2\n",
    "for index in range(0,11,2):\n",
    "    print(\"Loop is at the index :: \",index)"
   ]
  },
  {
   "cell_type": "code",
   "execution_count": null,
   "id": "b7dfd296",
   "metadata": {},
   "outputs": [],
   "source": []
  }
 ],
 "metadata": {
  "kernelspec": {
   "display_name": "Python 3 (ipykernel)",
   "language": "python",
   "name": "python3"
  },
  "language_info": {
   "codemirror_mode": {
    "name": "ipython",
    "version": 3
   },
   "file_extension": ".py",
   "mimetype": "text/x-python",
   "name": "python",
   "nbconvert_exporter": "python",
   "pygments_lexer": "ipython3",
   "version": "3.11.2"
  }
 },
 "nbformat": 4,
 "nbformat_minor": 5
}
