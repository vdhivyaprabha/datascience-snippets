{
 "cells": [
  {
   "cell_type": "code",
   "execution_count": 4,
   "id": "574e938e",
   "metadata": {},
   "outputs": [
    {
     "name": "stdout",
     "output_type": "stream",
     "text": [
      "('Cuthbert Binns', 'Helena Ravenclaw', 'The Blood Baron', 'The Fat Friar', 'Myrtle Warren', 'Headless Nick')\n",
      "The Legth of the first_tuple is ::  6\n",
      "The type of the first_tuple is ::  <class 'tuple'>\n",
      "The value of the hetro_datatype_tuple is ::  ('Cuthbert Binns', 88, True, 9.75, 'Headless Nick')\n"
     ]
    }
   ],
   "source": [
    "# creation of the tupe datatype\n",
    "first_tuple = (\"Cuthbert Binns\", \"Helena Ravenclaw\", \"The Blood Baron\",\"The Fat Friar\",\"Myrtle Warren\",\"Headless Nick\")\n",
    "print(first_tuple)\n",
    "print(\"The Legth of the first_tuple is :: \",len(first_tuple))\n",
    "print(\"The type of the first_tuple is :: \",type(first_tuple))\n",
    "hetro_datatype_tuple = (\"Cuthbert Binns\", 88, True, 9.75, \"Headless Nick\")\n",
    "print(\"The value of the hetro_datatype_tuple is :: \",hetro_datatype_tuple)"
   ]
  },
  {
   "cell_type": "code",
   "execution_count": 6,
   "id": "1664bd53",
   "metadata": {},
   "outputs": [
    {
     "name": "stdout",
     "output_type": "stream",
     "text": [
      "('Cuthbert Binns', 88, True, 9.75)\n",
      "(True, 9.75, 'Headless Nick')\n",
      "Headless Nick\n",
      "(True, 9.75, 'Headless Nick')\n",
      "(88, True, 9.75)\n"
     ]
    }
   ],
   "source": [
    "# accessing elements in the tuple\n",
    "print(hetro_datatype_tuple[:4]) # accessing the first 4 elements from the tupple without mention of start index.\n",
    "print(hetro_datatype_tuple[2:]) # Accessing element from the tuple after te 2nd index with 2d index element included\n",
    "print(hetro_datatype_tuple[-1]) # accessing last element from list using negative indexing\n",
    "print(hetro_datatype_tuple[2:5]) # accessing the subset of element using range\n",
    "print(hetro_datatype_tuple[-4:-1]) # accessing from last 4 element from 4th Element included and first element of list excluded."
   ]
  },
  {
   "cell_type": "code",
   "execution_count": null,
   "id": "cb7dfbd2",
   "metadata": {},
   "outputs": [],
   "source": [
    "# Managing the elements from the Tuple\n"
   ]
  }
 ],
 "metadata": {
  "kernelspec": {
   "display_name": "Python 3 (ipykernel)",
   "language": "python",
   "name": "python3"
  },
  "language_info": {
   "codemirror_mode": {
    "name": "ipython",
    "version": 3
   },
   "file_extension": ".py",
   "mimetype": "text/x-python",
   "name": "python",
   "nbconvert_exporter": "python",
   "pygments_lexer": "ipython3",
   "version": "3.11.2"
  }
 },
 "nbformat": 4,
 "nbformat_minor": 5
}
