{
 "cells": [
  {
   "cell_type": "code",
   "execution_count": 4,
   "id": "574e938e",
   "metadata": {},
   "outputs": [
    {
     "name": "stdout",
     "output_type": "stream",
     "text": [
      "('Cuthbert Binns', 'Helena Ravenclaw', 'The Blood Baron', 'The Fat Friar', 'Myrtle Warren', 'Headless Nick')\n",
      "The Legth of the first_tuple is ::  6\n",
      "The type of the first_tuple is ::  <class 'tuple'>\n",
      "The value of the hetro_datatype_tuple is ::  ('Cuthbert Binns', 88, True, 9.75, 'Headless Nick')\n"
     ]
    }
   ],
   "source": [
    "# creation of the tupe datatype\n",
    "first_tuple = (\"Cuthbert Binns\", \"Helena Ravenclaw\", \"The Blood Baron\",\"The Fat Friar\",\"Myrtle Warren\",\"Headless Nick\")\n",
    "print(first_tuple)\n",
    "print(\"The Legth of the first_tuple is :: \",len(first_tuple))\n",
    "print(\"The type of the first_tuple is :: \",type(first_tuple))\n",
    "hetro_datatype_tuple = (\"Cuthbert Binns\", 88, True, 9.75, \"Headless Nick\")\n",
    "print(\"The value of the hetro_datatype_tuple is :: \",hetro_datatype_tuple)"
   ]
  },
  {
   "cell_type": "code",
   "execution_count": 6,
   "id": "1664bd53",
   "metadata": {},
   "outputs": [
    {
     "name": "stdout",
     "output_type": "stream",
     "text": [
      "('Cuthbert Binns', 88, True, 9.75)\n",
      "(True, 9.75, 'Headless Nick')\n",
      "Headless Nick\n",
      "(True, 9.75, 'Headless Nick')\n",
      "(88, True, 9.75)\n"
     ]
    }
   ],
   "source": [
    "# accessing elements in the tuple\n",
    "print(hetro_datatype_tuple[:4]) # accessing the first 4 elements from the tupple without mention of start index.\n",
    "print(hetro_datatype_tuple[2:]) # Accessing element from the tuple after te 2nd index with 2d index element included\n",
    "print(hetro_datatype_tuple[-1]) # accessing last element from list using negative indexing\n",
    "print(hetro_datatype_tuple[2:5]) # accessing the subset of element using range\n",
    "print(hetro_datatype_tuple[-4:-1]) # accessing from last 4 element from 4th Element included and first element of list excluded."
   ]
  },
  {
   "cell_type": "code",
   "execution_count": 10,
   "id": "cb7dfbd2",
   "metadata": {},
   "outputs": [
    {
     "name": "stdout",
     "output_type": "stream",
     "text": [
      "The Updated value of the first_tuple_copy ::  ('Cuthbert Binns', 'Moaning Myrtle', 'The Blood Baron', 'The Fat Friar', 'Myrtle Warren', 'Headless Nick')\n",
      "The Updated value of the first_tuple_copy ::  ('Cuthbert Binns', 'Moaning Myrtle', 'The Blood Baron', 'The Fat Friar', 'Myrtle Warren', 'Headless Nick', 'Susan Bones')\n",
      "The Updated value of the first_tuple_copy ::  ('Cuthbert Binns', 'Moaning Myrtle', 'The Blood Baron', 'The Fat Friar', 'Myrtle Warren', 'Headless Nick', 'Susan Bones', 'Terry Boot', 'Lavender Brown')\n",
      "The Updated value of the first_tuple_copy ::  ('Cuthbert Binns', 'The Blood Baron', 'The Fat Friar', 'Myrtle Warren', 'Headless Nick', 'Susan Bones')\n"
     ]
    }
   ],
   "source": [
    "# Managing the elements from the Tuple\n",
    "\n",
    "# changing the tuple values\n",
    "conv_list = list(first_tuple)\n",
    "conv_list[1] = \"Moaning Myrtle\"\n",
    "first_tuple_copy = tuple(conv_list)\n",
    "print(\"The Updated value of the first_tuple_copy :: \",first_tuple_copy)\n",
    "\n",
    "# append elements in tuple\n",
    "conv_list.append(\"Susan Bones\")\n",
    "first_tuple_copy = tuple(conv_list)\n",
    "print(\"The Updated value of the first_tuple_copy :: \",first_tuple_copy)\n",
    "\n",
    "# Add Tuple to another tuple.\n",
    "second_tuple = (\"Terry Boot\",\"Lavender Brown\")\n",
    "first_tuple_copy += second_tuple\n",
    "print(\"The Updated value of the first_tuple_copy :: \",first_tuple_copy)\n",
    "\n",
    "# remove one element from the tuple\n",
    "conv_list.remove('Moaning Myrtle')\n",
    "first_tuple_copy = tuple(conv_list)\n",
    "print(\"The Updated value of the first_tuple_copy :: \",first_tuple_copy)"
   ]
  },
  {
   "cell_type": "code",
   "execution_count": 1,
   "id": "62fce2b0",
   "metadata": {},
   "outputs": [
    {
     "name": "stdout",
     "output_type": "stream",
     "text": [
      "The Value of :: sirius_black ::  Black family\n",
      "The Value of :: barty_crouchjr ::  Crouch family\n",
      "The Value of :: marvolo ::  Gaunt family\n",
      "The Value of :: bellatrix_black ::  Lestrange family\n"
     ]
    }
   ],
   "source": [
    "# Unpacking elements from the tuple\n",
    "blood_family = (\"Black family\",\"Crouch family\",\"Gaunt family\",\"Lestrange family\")\n",
    "sirius_black,barty_crouchjr,marvolo,bellatrix_black=(\"Black family\",\"Crouch family\",\"Gaunt family\",\"Lestrange family\")\n",
    "print(\"The Value of :: sirius_black :: \",sirius_black)\n",
    "print(\"The Value of :: barty_crouchjr :: \",barty_crouchjr)\n",
    "print(\"The Value of :: marvolo :: \",marvolo)\n",
    "print(\"The Value of :: bellatrix_black :: \",bellatrix_black)"
   ]
  },
  {
   "cell_type": "code",
   "execution_count": 6,
   "id": "989ac706",
   "metadata": {},
   "outputs": [
    {
     "name": "stdout",
     "output_type": "stream",
     "text": [
      "The element is ::  Black family\n",
      "The element is ::  Crouch family\n",
      "Element at the index 0 is Black family.\n",
      "Element at the index 1 is Crouch family.\n",
      "The Value of the combined tuple is ('Black family', 'Crouch family', 'Sirius Black', 'Barty Crouch Sr and Jr') \n",
      "The Value of the consolidated_people tuple is ('Sirius Black', 'Barty Crouch Sr and Jr', 'Sirius Black', 'Barty Crouch Sr and Jr') \n"
     ]
    }
   ],
   "source": [
    "# Iterate Tuples\n",
    "for indv_element in blood_family:\n",
    "    print(\"The element is :: \",indv_element)\n",
    "    \n",
    "# Iterate Tuples by Index\n",
    "for index in range(len(blood_family)):\n",
    "    print(\"Element at the index {} is {}.\".format(index,blood_family[index]))\n",
    "    \n",
    "# Append Tuples and Multiple values in the tuples and create a new tuple.\n",
    "blood_family=(\"Black family\",\"Crouch family\")\n",
    "people=(\"Sirius Black\",\"Barty Crouch Sr and Jr\")\n",
    "combined=blood_family+people\n",
    "print(\"The Value of the combined tuple is {} \".format(combined))\n",
    "\n",
    "# Multiple the value in the tuple\n",
    "consolidated_people=people*2\n",
    "print(\"The Value of the consolidated_people tuple is {} \".format(consolidated_people))"
   ]
  },
  {
   "cell_type": "code",
   "execution_count": 7,
   "id": "844e6d90",
   "metadata": {},
   "outputs": [],
   "source": [
    "# Demonstration of dictionaries \n",
    "hogwarts={\n",
    "    \"Sinistra\":\"Astronomy\",\n",
    "    \"Alastor\":\"Defense Against the Dark Arts\",\n",
    "    \"Pomina\":\"Herbology\",\n",
    "    \"Vector\":\"Arithmancy\",\n",
    "    \"Hagrid\":\"Magical Creatures\"\n",
    "}"
   ]
  },
  {
   "cell_type": "code",
   "execution_count": 11,
   "id": "367c4526",
   "metadata": {},
   "outputs": [
    {
     "name": "stdout",
     "output_type": "stream",
     "text": [
      "retriving One element from dictionary using the keys :: hogwarts[Sinistra] Astronomy\n",
      "Accessing the elemnt using the get method ::  Astronomy\n",
      "Length of the dictionary is ::  5\n",
      "Type ::  <class 'dict'>\n",
      "Getting the list of keys from the dictionary ;:  dict_keys(['Sinistra', 'Alastor', 'Pomina', 'Vector', 'Hagrid'])\n",
      "Getting the list of values from the dictionary ;:  dict_values(['Astronomy', 'Defense Against the Dark Arts', 'Herbology', 'Arithmancy', 'Magical Creatures'])\n",
      "getting each element in the dict as tuples ::  dict_items([('Sinistra', 'Astronomy'), ('Alastor', 'Defense Against the Dark Arts'), ('Pomina', 'Herbology'), ('Vector', 'Arithmancy'), ('Hagrid', 'Magical Creatures')])\n"
     ]
    }
   ],
   "source": [
    "# basic Functions applying on  the data type dictionary\n",
    "print(\"retriving One element from dictionary using the keys :: hogwarts[Sinistra]\",hogwarts[\"Sinistra\"])\n",
    "print(\"Accessing the elemnt using the get method :: \",hogwarts.get(\"Sinistra\"))\n",
    "print(\"Length of the dictionary is :: \",len(hogwarts))\n",
    "print(\"Type :: \",type(hogwarts))\n",
    "print(\"Getting the list of keys from the dictionary ;: \",hogwarts.keys())\n",
    "print(\"Getting the list of values from the dictionary ;: \",hogwarts.values())\n",
    "print(\"getting each element in the dict as tuples :: \",hogwarts.items())"
   ]
  },
  {
   "cell_type": "code",
   "execution_count": 22,
   "id": "aa631bfa",
   "metadata": {},
   "outputs": [
    {
     "name": "stdout",
     "output_type": "stream",
     "text": [
      "Updated Dictionary ::  dict_items([('Sinistra', 'Astronomy'), ('Alastor', 'Defense Against the Dark Arts'), ('Vector', 'Arithmancy'), ('Hagrid', 'Magical Creatures'), ('Merrythought', 'Defense Against the Dark Arts')])\n",
      "Updated Dictionary ::  dict_items([('Sinistra', 'Astronomy'), ('Alastor', 'Defense Against the Dark Arts'), ('Vector', 'Arithmancy'), ('Hagrid', 'Magical Creatures'), ('Merrythought', 'Defense Against the Dark Arts'), ('Severus Snape', 'Defense Against the Dark Arts')])\n",
      "Updated Dictionary ::  dict_items([('Sinistra', 'Astronomy'), ('Alastor', 'Defense Against the Dark Arts'), ('Vector', 'Arithmancy'), ('Hagrid', 'Magical Creatures'), ('Merrythought', 'Defense Against the Dark Arts')])\n",
      "Updated Dictionary ::  dict_items([('Sinistra', 'Astronomy'), ('Alastor', 'Defense Against the Dark Arts'), ('Vector', 'Arithmancy'), ('Hagrid', 'Magical Creatures')])\n",
      "Updated Dictionary ::  dict_items([('Sinistra', 'Astronomy'), ('Alastor', 'Defense Against the Dark Arts'), ('Hagrid', 'Magical Creatures')])\n",
      "{'Sinistra': 'Astronomy', 'Alastor': 'Defense Against the Dark Arts', 'Hagrid': 'Magical Creatures'}\n"
     ]
    }
   ],
   "source": [
    "# Updating elements in the dictionary \n",
    "\n",
    "# adding element in the dictionary \n",
    "hogwarts[\"Merrythought\"] = \"Defense Against the Dark Arts\"\n",
    "print(\"Updated Dictionary :: \",hogwarts.items())\n",
    "hogwarts.update({\"Severus Snape\": \"Defense Against the Dark Arts\"})\n",
    "print(\"Updated Dictionary :: \",hogwarts.items())\n",
    "\n",
    "# Deleting elements from the dictionary\n",
    "# Method 1 : using the \"pop\" method\n",
    "hogwarts.pop(\"Severus Snape\")\n",
    "print(\"Updated Dictionary :: \",hogwarts.items())\n",
    "# Method 2 : using the \"popitem()\" method to remove the item\n",
    "hogwarts.popitem()\n",
    "print(\"Updated Dictionary :: \",hogwarts.items())\n",
    "# Method 3 using the del keyworrd\n",
    "del hogwarts[\"Vector\"]\n",
    "print(\"Updated Dictionary :: \",hogwarts.items())\n",
    "\n",
    "# copy the dictionary\n",
    "new_hogwarts = hogwarts.copy()\n",
    "print(new_hogwarts)"
   ]
  },
  {
   "cell_type": "code",
   "execution_count": 20,
   "id": "ca2eb390",
   "metadata": {},
   "outputs": [
    {
     "name": "stdout",
     "output_type": "stream",
     "text": [
      "Printing the Key ::  Sinistra\n",
      "Printing the Key ::  Alastor\n",
      "Printing the Key ::  Vector\n",
      "Printing the Key ::  Hagrid\n",
      "Printing the value ::  Astronomy\n",
      "Printing the value ::  Defense Against the Dark Arts\n",
      "Printing the value ::  Arithmancy\n",
      "Printing the value ::  Magical Creatures\n",
      "Key Sinistra and Value Astronomy \n",
      "Key Alastor and Value Defense Against the Dark Arts \n",
      "Key Vector and Value Arithmancy \n",
      "Key Hagrid and Value Magical Creatures \n"
     ]
    }
   ],
   "source": [
    "# Ierating through the values in the dictionary\n",
    "\n",
    "# Printing only the keys from the dictionary\n",
    "for indv_values in hogwarts:\n",
    "    print(\"Printing the Key :: \",indv_values)\n",
    "\n",
    "# Printing only the values of the dictionary\n",
    "for indv_values in hogwarts:\n",
    "    print(\"Printing the value :: \",hogwarts[indv_values])\n",
    "\n",
    "# printing both keys and Values of the dictionary\n",
    "for indv_key, indv_value in hogwarts.items():\n",
    "    print(\"Key {} and Value {} \".format(indv_key, indv_value))"
   ]
  },
  {
   "cell_type": "code",
   "execution_count": null,
   "id": "7cbab098",
   "metadata": {},
   "outputs": [],
   "source": []
  }
 ],
 "metadata": {
  "kernelspec": {
   "display_name": "Python 3 (ipykernel)",
   "language": "python",
   "name": "python3"
  },
  "language_info": {
   "codemirror_mode": {
    "name": "ipython",
    "version": 3
   },
   "file_extension": ".py",
   "mimetype": "text/x-python",
   "name": "python",
   "nbconvert_exporter": "python",
   "pygments_lexer": "ipython3",
   "version": "3.11.2"
  }
 },
 "nbformat": 4,
 "nbformat_minor": 5
}
