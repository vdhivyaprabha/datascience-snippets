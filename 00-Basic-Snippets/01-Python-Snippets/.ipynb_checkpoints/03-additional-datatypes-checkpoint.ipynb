{
 "cells": [
  {
   "cell_type": "code",
   "execution_count": 1,
   "id": "38a000cd",
   "metadata": {},
   "outputs": [],
   "source": [
    "import math"
   ]
  },
  {
   "cell_type": "code",
   "execution_count": 2,
   "id": "9b080fef",
   "metadata": {},
   "outputs": [
    {
     "name": "stdout",
     "output_type": "stream",
     "text": [
      "Minimum among the three ::  5\n",
      "Maximum among the three ::  25\n"
     ]
    }
   ],
   "source": [
    "minimum_element = min(5, 10, 25)\n",
    "print(\"Minimum among the three :: \",minimum_element)\n",
    "minimum_element = max(5, 10, 25)\n",
    "print(\"Maximum among the three :: \",minimum_element)"
   ]
  },
  {
   "cell_type": "code",
   "execution_count": 3,
   "id": "db576ff0",
   "metadata": {},
   "outputs": [
    {
     "name": "stdout",
     "output_type": "stream",
     "text": [
      "ABS on Negative Integer ::  225.36\n"
     ]
    }
   ],
   "source": [
    "positive_ins = abs(-225.36)\n",
    "print(\"ABS on Negative Integer :: \",positive_ins)"
   ]
  },
  {
   "cell_type": "code",
   "execution_count": 9,
   "id": "bb7070a3",
   "metadata": {},
   "outputs": [
    {
     "name": "stdout",
     "output_type": "stream",
     "text": [
      "pow(first_input_element, second_input_element) ::  625\n",
      "math.sqrt(first_input_element) ::  2.23606797749979\n",
      "math.ceil(first_float_element) ::  6\n",
      "math.floor(first_input_element) ::  5\n",
      "Demonstating contant :: Value of Pi ::  3.141592653589793\n",
      "math.exp(first_float_element) ::  221.40641620418717\n",
      "math.log(first_input_element, second_input_element) ::  1.160964047443681\n"
     ]
    }
   ],
   "source": [
    "first_input_element = 5\n",
    "second_input_element = 4\n",
    "first_float_element = 5.4\n",
    "print(\"pow(first_input_element, second_input_element) :: \",pow(first_input_element, second_input_element))\n",
    "print(\"math.sqrt(first_input_element) :: \",math.sqrt(first_input_element))\n",
    "print(\"math.ceil(first_float_element) :: \",math.ceil(first_float_element))\n",
    "print(\"math.floor(first_input_element) :: \",math.floor(first_input_element))\n",
    "print(\"Demonstating contant :: Value of Pi :: \",math.pi)\n",
    "print(\"math.exp(first_float_element) :: \",math.exp(first_float_element))\n",
    "print(\"math.log(first_input_element, second_input_element) :: \",math.log(first_input_element, second_input_element))"
   ]
  },
  {
   "cell_type": "markdown",
   "id": "5bf95d1e",
   "metadata": {},
   "source": [
    "#### Demonstration of Strings and Its Functions"
   ]
  },
  {
   "cell_type": "code",
   "execution_count": 41,
   "id": "56193737",
   "metadata": {},
   "outputs": [
    {
     "name": "stdout",
     "output_type": "stream",
     "text": [
      "Input String :: first_input_string[0] ::  Godric Gryffindor G\n",
      "Input String :: first_input_string[0:5] ::  Godric Gryffindor Godri\n",
      "Input String :: second_input_string[7:] ::  Helga Hufflepuff ufflepuff\n",
      "Input String :: third_input_string[-1] ::  Rowena Ravenclaw w\n",
      "Concatinating two Words ::  Godric Gryffindor <- :: -> Salazar Slytherin\n",
      "Repeating fourth_input_string 3 times ::  Salazar SlytherinSalazar SlytherinSalazar Slytherin\n",
      "fourth_input_string.endswith(Slytherin) ::  True\n",
      "first_input_string.endswith(Hufflepuff) ::  False\n",
      "fourth_input_string.isalpha() ::  False\n",
      "fourth_input_string.isalpha() ::  False\n",
      "first_alpha_numeric.isalpha() ::  False\n",
      "first_numeric.isnumeric() ::  True\n",
      "first_numeric.isdigit() ::  True\n",
      "fourth_input_string.isalnum() ::  False\n",
      "first_alpha_numeric.isalnum() ::  True\n",
      "Converting second_input_string to Uppercase ::  HELGA HUFFLEPUFF\n",
      "Converting third_input_string to Lowercase ::  rowena ravenclaw\n",
      "Check the length of the third_input_string ::  16\n",
      "Check for Sub string in third_input_string ::  True\n",
      "Removinbg white spaces in the third_input_string ::  Rowena Ravenclaw\n",
      "Replacing Elements in the third_input_string ::  Rowena Hufflepuff\n",
      "Split the third_input_string using spaces ::  ['Rowena', 'Ravenclaw']\n",
      "ncl\n",
      "Death eaters are just as scary as their name\n",
      "Death eaters are just as scary as their name\n"
     ]
    }
   ],
   "source": [
    "first_input_string = \"Godric Gryffindor\"\n",
    "second_input_string = \"Helga Hufflepuff\"\n",
    "third_input_string = \"Rowena Ravenclaw\"\n",
    "fourth_input_string = \"Salazar Slytherin\"\n",
    "first_alpha_numeric = \"Gryffindor934\"\n",
    "first_numeric = \"934\"\n",
    "\n",
    "# Accessing first character of the input string \n",
    "print(\"Input String :: first_input_string[0] :: \",first_input_string,first_input_string[0])\n",
    "\n",
    "# Accessing first 5 character of the input string\n",
    "print(\"Input String :: first_input_string[0:5] :: \",first_input_string,first_input_string[0:5])\n",
    "\n",
    "# Accessing characters after 7th character in the inpu string\n",
    "print(\"Input String :: second_input_string[7:] :: \",second_input_string,second_input_string[7:])\n",
    "\n",
    "# Accessing the last character of the string using \"-1\"\n",
    "print(\"Input String :: third_input_string[-1] :: \",third_input_string,third_input_string[-1])\n",
    "\n",
    "# Concatinating two String using + Operator\n",
    "print(\"Concatinating two Words :: \",first_input_string + \" <- :: -> \" + fourth_input_string)\n",
    "\n",
    "# Repeating the words using * operator and Numbers\n",
    "print(\"Repeating fourth_input_string 3 times :: \",fourth_input_string * 3)\n",
    "\n",
    "# check if the word end with a specific character\n",
    "print(\"fourth_input_string.endswith(Slytherin) :: \",fourth_input_string.endswith(\"Slytherin\"))\n",
    "print(\"first_input_string.endswith(Hufflepuff) :: \",first_input_string.endswith(\"Hufflepuff\"))\n",
    "\n",
    "# Check if the string is a Alpha Numeric Elemennt\n",
    "print(\"fourth_input_string.isalpha() :: \",fourth_input_string.isalpha())\n",
    "\n",
    "# Check if the string is a Alpha Numeric Elemennt\n",
    "print(\"fourth_input_string.isalpha() :: \",fourth_input_string.isalpha())\n",
    "print(\"first_alpha_numeric.isalpha() :: \",first_alpha_numeric.isalpha())\n",
    "\n",
    "# check if the element is a digit or a number\n",
    "print(\"first_numeric.isnumeric() :: \",first_numeric.isnumeric())\n",
    "print(\"first_numeric.isdigit() :: \",first_numeric.isdigit())\n",
    "\n",
    "# Check if the string is a Alpha Numeric Elemennt\n",
    "print(\"fourth_input_string.isalnum() :: \",fourth_input_string.isalnum())\n",
    "print(\"first_alpha_numeric.isalnum() :: \",first_alpha_numeric.isalnum())\n",
    "\n",
    "# String Operations\n",
    "print(\"Converting second_input_string to Uppercase :: \",second_input_string.upper())\n",
    "print(\"Converting third_input_string to Lowercase :: \",third_input_string.lower())\n",
    "print(\"Check the length of the third_input_string :: \",len(third_input_string))\n",
    "print(\"Check for Sub string in third_input_string :: \",\"Ravenclaw\" in third_input_string)\n",
    "print(\"Removinbg white spaces in the third_input_string :: \",third_input_string.strip())\n",
    "print(\"Replacing Elements in the third_input_string :: \",third_input_string.replace(\"Ravenclaw\",\"Hufflepuff\"))\n",
    "print(\"Split the third_input_string using spaces :: \",third_input_string.split(\" \"))\n",
    "\n",
    "# Nagative Indxing in strings\n",
    "print(third_input_string[-5:-2])\n",
    "\n",
    "# Format Strings using {}\n",
    "inputs_sample = \"Death {} are {} as {} as {}\"\n",
    "print(inputs_sample.format(\"eaters\", \"just\", \"scary\",\"their name\"))\n",
    "# when you want to shuffle the order of display you can use indexes\n",
    "input_sample = \"Death {1} are {2} as {3} as {4}\"\n",
    "print(inputs_sample.format(\"eaters\", \"just\", \"scary\",\"their name\"))"
   ]
  },
  {
   "cell_type": "code",
   "execution_count": 32,
   "id": "7e22f197",
   "metadata": {},
   "outputs": [
    {
     "name": "stdout",
     "output_type": "stream",
     "text": [
      "Index is at the element ::  H\n",
      "Index is at the element ::  e\n",
      "Index is at the element ::  l\n",
      "Index is at the element ::  g\n",
      "Index is at the element ::  a\n",
      "Index is at the element ::   \n",
      "Index is at the element ::  H\n",
      "Index is at the element ::  u\n",
      "Index is at the element ::  f\n",
      "Index is at the element ::  f\n",
      "Index is at the element ::  l\n",
      "Index is at the element ::  e\n",
      "Index is at the element ::  p\n",
      "Index is at the element ::  u\n",
      "Index is at the element ::  f\n",
      "Index is at the element ::  f\n"
     ]
    }
   ],
   "source": [
    "# Looping through the string using a for loop\n",
    "\n",
    "for index_element in second_input_string:\n",
    "    print(\"Index is at the element :: \",index_element)"
   ]
  },
  {
   "cell_type": "code",
   "execution_count": null,
   "id": "556e3d12",
   "metadata": {},
   "outputs": [],
   "source": []
  }
 ],
 "metadata": {
  "kernelspec": {
   "display_name": "Python 3 (ipykernel)",
   "language": "python",
   "name": "python3"
  },
  "language_info": {
   "codemirror_mode": {
    "name": "ipython",
    "version": 3
   },
   "file_extension": ".py",
   "mimetype": "text/x-python",
   "name": "python",
   "nbconvert_exporter": "python",
   "pygments_lexer": "ipython3",
   "version": "3.11.2"
  }
 },
 "nbformat": 4,
 "nbformat_minor": 5
}
