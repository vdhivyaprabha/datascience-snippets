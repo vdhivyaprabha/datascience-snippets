{
 "cells": [
  {
   "cell_type": "code",
   "execution_count": 75,
   "id": "2622b8da",
   "metadata": {},
   "outputs": [],
   "source": [
    "import math"
   ]
  },
  {
   "cell_type": "code",
   "execution_count": 76,
   "id": "68e5435f",
   "metadata": {},
   "outputs": [
    {
     "name": "stdout",
     "output_type": "stream",
     "text": [
      "Minimum among the three ::  5\n",
      "Maximum among the three ::  25\n"
     ]
    }
   ],
   "source": [
    "minimum_element = min(5, 10, 25)\n",
    "print(\"Minimum among the three :: \",minimum_element)\n",
    "minimum_element = max(5, 10, 25)\n",
    "print(\"Maximum among the three :: \",minimum_element)"
   ]
  },
  {
   "cell_type": "code",
   "execution_count": 77,
   "id": "4b632ecc",
   "metadata": {},
   "outputs": [
    {
     "name": "stdout",
     "output_type": "stream",
     "text": [
      "ABS on Negative Integer ::  225.36\n"
     ]
    }
   ],
   "source": [
    "positive_ins = abs(-225.36)\n",
    "print(\"ABS on Negative Integer :: \",positive_ins)"
   ]
  },
  {
   "cell_type": "code",
   "execution_count": 78,
   "id": "4c9333ca",
   "metadata": {},
   "outputs": [
    {
     "name": "stdout",
     "output_type": "stream",
     "text": [
      "pow(first_input_element, second_input_element) ::  625\n",
      "math.sqrt(first_input_element) ::  2.23606797749979\n",
      "math.ceil(first_float_element) ::  6\n",
      "math.floor(first_input_element) ::  5\n",
      "Demonstating contant :: Value of Pi ::  3.141592653589793\n",
      "math.exp(first_float_element) ::  221.40641620418717\n",
      "math.log(first_input_element, second_input_element) ::  1.160964047443681\n"
     ]
    }
   ],
   "source": [
    "first_input_element = 5\n",
    "second_input_element = 4\n",
    "first_float_element = 5.4\n",
    "print(\"pow(first_input_element, second_input_element) :: \",pow(first_input_element, second_input_element))\n",
    "print(\"math.sqrt(first_input_element) :: \",math.sqrt(first_input_element))\n",
    "print(\"math.ceil(first_float_element) :: \",math.ceil(first_float_element))\n",
    "print(\"math.floor(first_input_element) :: \",math.floor(first_input_element))\n",
    "print(\"Demonstating contant :: Value of Pi :: \",math.pi)\n",
    "print(\"math.exp(first_float_element) :: \",math.exp(first_float_element))\n",
    "print(\"math.log(first_input_element, second_input_element) :: \",math.log(first_input_element, second_input_element))"
   ]
  },
  {
   "cell_type": "markdown",
   "id": "091a2140",
   "metadata": {},
   "source": [
    "#### Demonstration of Strings and Its Functions"
   ]
  },
  {
   "cell_type": "code",
   "execution_count": 79,
   "id": "a024446d",
   "metadata": {},
   "outputs": [
    {
     "name": "stdout",
     "output_type": "stream",
     "text": [
      "Input String :: first_input_string[0] ::  Godric Gryffindor G\n",
      "Input String :: first_input_string[0:5] ::  Godric Gryffindor Godri\n",
      "Input String :: second_input_string[7:] ::  Helga Hufflepuff ufflepuff\n",
      "Input String :: third_input_string[-1] ::  Rowena Ravenclaw w\n",
      "Concatinating two Words ::  Godric Gryffindor <- :: -> Salazar Slytherin\n",
      "Repeating fourth_input_string 3 times ::  Salazar SlytherinSalazar SlytherinSalazar Slytherin\n",
      "fourth_input_string.endswith(Slytherin) ::  True\n",
      "first_input_string.endswith(Hufflepuff) ::  False\n",
      "fourth_input_string.isalpha() ::  False\n",
      "fourth_input_string.isalpha() ::  False\n",
      "first_alpha_numeric.isalpha() ::  False\n",
      "first_numeric.isnumeric() ::  True\n",
      "first_numeric.isdigit() ::  True\n",
      "fourth_input_string.isalnum() ::  False\n",
      "first_alpha_numeric.isalnum() ::  True\n",
      "Converting second_input_string to Uppercase ::  HELGA HUFFLEPUFF\n",
      "Converting third_input_string to Lowercase ::  rowena ravenclaw\n",
      "Check the length of the third_input_string ::  16\n",
      "Check for Sub string in third_input_string ::  True\n",
      "Removinbg white spaces in the third_input_string ::  Rowena Ravenclaw\n",
      "Replacing Elements in the third_input_string ::  Rowena Hufflepuff\n",
      "Split the third_input_string using spaces ::  ['Rowena', 'Ravenclaw']\n",
      "ncl\n",
      "Death eaters are just as scary as their name\n",
      "Death eaters are just as scary as their name\n"
     ]
    }
   ],
   "source": [
    "first_input_string = \"Godric Gryffindor\"\n",
    "second_input_string = \"Helga Hufflepuff\"\n",
    "third_input_string = \"Rowena Ravenclaw\"\n",
    "fourth_input_string = \"Salazar Slytherin\"\n",
    "first_alpha_numeric = \"Gryffindor934\"\n",
    "first_numeric = \"934\"\n",
    "\n",
    "# Accessing first character of the input string \n",
    "print(\"Input String :: first_input_string[0] :: \",first_input_string,first_input_string[0])\n",
    "\n",
    "# Accessing first 5 character of the input string\n",
    "print(\"Input String :: first_input_string[0:5] :: \",first_input_string,first_input_string[0:5])\n",
    "\n",
    "# Accessing characters after 7th character in the inpu string\n",
    "print(\"Input String :: second_input_string[7:] :: \",second_input_string,second_input_string[7:])\n",
    "\n",
    "# Accessing the last character of the string using \"-1\"\n",
    "print(\"Input String :: third_input_string[-1] :: \",third_input_string,third_input_string[-1])\n",
    "\n",
    "# Concatinating two String using + Operator\n",
    "print(\"Concatinating two Words :: \",first_input_string + \" <- :: -> \" + fourth_input_string)\n",
    "\n",
    "# Repeating the words using * operator and Numbers\n",
    "print(\"Repeating fourth_input_string 3 times :: \",fourth_input_string * 3)\n",
    "\n",
    "# check if the word end with a specific character\n",
    "print(\"fourth_input_string.endswith(Slytherin) :: \",fourth_input_string.endswith(\"Slytherin\"))\n",
    "print(\"first_input_string.endswith(Hufflepuff) :: \",first_input_string.endswith(\"Hufflepuff\"))\n",
    "\n",
    "# Check if the string is a Alpha Numeric Elemennt\n",
    "print(\"fourth_input_string.isalpha() :: \",fourth_input_string.isalpha())\n",
    "\n",
    "# Check if the string is a Alpha Numeric Elemennt\n",
    "print(\"fourth_input_string.isalpha() :: \",fourth_input_string.isalpha())\n",
    "print(\"first_alpha_numeric.isalpha() :: \",first_alpha_numeric.isalpha())\n",
    "\n",
    "# check if the element is a digit or a number\n",
    "print(\"first_numeric.isnumeric() :: \",first_numeric.isnumeric())\n",
    "print(\"first_numeric.isdigit() :: \",first_numeric.isdigit())\n",
    "\n",
    "# Check if the string is a Alpha Numeric Elemennt\n",
    "print(\"fourth_input_string.isalnum() :: \",fourth_input_string.isalnum())\n",
    "print(\"first_alpha_numeric.isalnum() :: \",first_alpha_numeric.isalnum())\n",
    "\n",
    "# String Operations\n",
    "print(\"Converting second_input_string to Uppercase :: \",second_input_string.upper())\n",
    "print(\"Converting third_input_string to Lowercase :: \",third_input_string.lower())\n",
    "print(\"Check the length of the third_input_string :: \",len(third_input_string))\n",
    "print(\"Check for Sub string in third_input_string :: \",\"Ravenclaw\" in third_input_string)\n",
    "print(\"Removinbg white spaces in the third_input_string :: \",third_input_string.strip())\n",
    "print(\"Replacing Elements in the third_input_string :: \",third_input_string.replace(\"Ravenclaw\",\"Hufflepuff\"))\n",
    "print(\"Split the third_input_string using spaces :: \",third_input_string.split(\" \"))\n",
    "\n",
    "# Nagative Indxing in strings\n",
    "print(third_input_string[-5:-2])\n",
    "\n",
    "# Format Strings using {}\n",
    "inputs_sample = \"Death {} are {} as {} as {}\"\n",
    "print(inputs_sample.format(\"eaters\", \"just\", \"scary\",\"their name\"))\n",
    "# when you want to shuffle the order of display you can use indexes\n",
    "input_sample = \"Death {1} are {2} as {3} as {4}\"\n",
    "print(inputs_sample.format(\"eaters\", \"just\", \"scary\",\"their name\"))"
   ]
  },
  {
   "cell_type": "code",
   "execution_count": 80,
   "id": "9c489406",
   "metadata": {},
   "outputs": [
    {
     "name": "stdout",
     "output_type": "stream",
     "text": [
      "Index is at the element ::  H\n",
      "Index is at the element ::  e\n",
      "Index is at the element ::  l\n",
      "Index is at the element ::  g\n",
      "Index is at the element ::  a\n",
      "Index is at the element ::   \n",
      "Index is at the element ::  H\n",
      "Index is at the element ::  u\n",
      "Index is at the element ::  f\n",
      "Index is at the element ::  f\n",
      "Index is at the element ::  l\n",
      "Index is at the element ::  e\n",
      "Index is at the element ::  p\n",
      "Index is at the element ::  u\n",
      "Index is at the element ::  f\n",
      "Index is at the element ::  f\n"
     ]
    }
   ],
   "source": [
    "# Looping through the string using a for loop\n",
    "\n",
    "for index_element in second_input_string:\n",
    "    print(\"Index is at the element :: \",index_element)"
   ]
  },
  {
   "cell_type": "code",
   "execution_count": 81,
   "id": "6037cde5",
   "metadata": {},
   "outputs": [
    {
     "name": "stdout",
     "output_type": "stream",
     "text": [
      "The Elements in the list are ::  ['Buckbeak', 'Crookshanks', 'Errol', 'Fang']\n",
      "The Type of the pet_names is ::  <class 'list'>\n",
      "The Input list with duplicate elements ::  ['Buckbeak', 'Crookshanks', 'Errol', 'Fang', 'Buckbeak', 'Crookshanks', 'Errol']\n",
      "Length of the input list ::  7\n",
      "List with Hetrogeneous dataypes of elements ::  ['Buckbeak', 'Crookshanks', 9.75, False, 'Fang']\n"
     ]
    }
   ],
   "source": [
    "# Defining and demonstating data Type : List\n",
    "pet_names = [\"Buckbeak\",\"Crookshanks\",\"Errol\",\"Fang\"]\n",
    "print(\"The Elements in the list are :: \",pet_names)\n",
    "print(\"The Type of the pet_names is :: \",type(pet_names))\n",
    "pet_names_duplicates = [\"Buckbeak\",\"Crookshanks\",\"Errol\",\"Fang\",\"Buckbeak\",\"Crookshanks\",\"Errol\"]\n",
    "print(\"The Input list with duplicate elements :: \",pet_names_duplicates)\n",
    "print(\"Length of the input list :: \",len(pet_names_duplicates))\n",
    "multiple_elements_list = [\"Buckbeak\",\"Crookshanks\",9.75,False,\"Fang\"]\n",
    "print(\"List with Hetrogeneous dataypes of elements :: \",multiple_elements_list)"
   ]
  },
  {
   "cell_type": "code",
   "execution_count": 82,
   "id": "372f9021",
   "metadata": {},
   "outputs": [
    {
     "name": "stdout",
     "output_type": "stream",
     "text": [
      "Accessing the first element in the list ::  Buckbeak\n",
      "Accessing the Last element in the list using Negative Indexing ::  Fang\n",
      "Getting range of element in the list ::  ['Buckbeak', 'Crookshanks']\n",
      "Getting range of element in the list ::  ['Buckbeak', 'Crookshanks', 'Errol', 'Fang']\n",
      "Getting range of element in the list ::  ['Buckbeak', 'Crookshanks']\n",
      "Getting range of element in the list ::  ['Errol', 'Fang']\n",
      "Getting range of element in the list ::  ['Buckbeak', 'Crookshanks']\n",
      "Buckbeak has Reached\n",
      "The Modified List is ::  ['Buckbeak', 'Fawkes', 'Errol', 'Fang']\n",
      "The Modified List is ::  ['Buckbeak', 'Fluffy', 'Hedwig', 'Errol', 'Fang']\n",
      "The Modified List is ::  ['Buckbeak', 'Fluffy', 'Scabbers', 'Errol', 'Fang']\n",
      "The Modified List is ::  ['Buckbeak', 'Fluffy', 'Scabbers', 'Errol', 'Pigwidgeon', 'Trevor', 'Fang']\n"
     ]
    }
   ],
   "source": [
    "# Accessing the elements in the list\n",
    "print(\"Accessing the first element in the list :: \",pet_names[0])\n",
    "print(\"Accessing the Last element in the list using Negative Indexing :: \",pet_names[-1])\n",
    "print(\"Getting range of element in the list :: \",pet_names[0:2])\n",
    "print(\"Getting range of element in the list :: \",pet_names[0:])\n",
    "print(\"Getting range of element in the list :: \",pet_names[:2])\n",
    "print(\"Getting range of element in the list :: \",pet_names[-2:])\n",
    "print(\"Getting range of element in the list :: \",pet_names[:-2])\n",
    "\n",
    "# Check if the Item is resent in the list\n",
    "if \"Buckbeak\" in pet_names:\n",
    "    print(\"Buckbeak has Reached\")\n",
    "    \n",
    "# Modyfying element in the list\n",
    "pet_names[1] = \"Fawkes\"\n",
    "print(\"The Modified List is :: \",pet_names)\n",
    "pet_names[1:2] = [\"Fluffy\", \"Hedwig\"]\n",
    "print(\"The Modified List is :: \",pet_names)\n",
    "pet_names[2:3] = [\"Scabbers\"]\n",
    "print(\"The Modified List is :: \",pet_names)\n",
    "pet_names.insert(4, \"Pigwidgeon\")\n",
    "pet_names.insert(5, \"Trevor\")\n",
    "print(\"The Modified List is :: \",pet_names)"
   ]
  },
  {
   "cell_type": "code",
   "execution_count": 83,
   "id": "a5332062",
   "metadata": {},
   "outputs": [
    {
     "name": "stdout",
     "output_type": "stream",
     "text": [
      "The Modified List is ::  ['Buckbeak', 'Fluffy', 'Scabbers', 'Errol', 'Pigwidgeon', 'Trevor', 'Fang', 'Norbert']\n",
      "The Modified List is ::  ['Buckbeak', 'Fluffy', 'Scabbers', 'Errol', 'Pigwidgeon', 'Trevor', 'Fang', 'Norbert', 'Godric Gryffindor', 'Helga Hufflepuff', 'Rowena Ravenclaw', 'Salazar Slytherin']\n",
      "The Modified List is ::  ['Buckbeak', 'Fluffy', 'Scabbers', 'Errol', 'Pigwidgeon', 'Trevor', 'Fang', 'Norbert', 'Godric Gryffindor', 'Helga Hufflepuff', 'Rowena Ravenclaw', 'Salazar Slytherin', 'Godric Gryffindor', 'Helga Hufflepuff', 'Rowena Ravenclaw', 'Salazar Slytherin']\n"
     ]
    }
   ],
   "source": [
    "# Add element to the list\n",
    "pet_names.append(\"Norbert\")\n",
    "print(\"The Modified List is :: \",pet_names)\n",
    "\n",
    "# To Apppend Elements from another list we can use te extend function.\n",
    "house_list = [\"Godric Gryffindor\",\"Helga Hufflepuff\",\"Rowena Ravenclaw\",\"Salazar Slytherin\"]\n",
    "pet_names.extend(house_list)\n",
    "print(\"The Modified List is :: \",pet_names)\n",
    "\n",
    "# Extend can add any iteratale\n",
    "house_list = (\"Godric Gryffindor\",\"Helga Hufflepuff\",\"Rowena Ravenclaw\",\"Salazar Slytherin\")\n",
    "pet_names.extend(house_list)\n",
    "print(\"The Modified List is :: \",pet_names)"
   ]
  },
  {
   "cell_type": "code",
   "execution_count": 84,
   "id": "42dc73b9",
   "metadata": {},
   "outputs": [
    {
     "name": "stdout",
     "output_type": "stream",
     "text": [
      "The Modified List is ::  ['Buckbeak', 'Fluffy', 'Scabbers', 'Errol', 'Pigwidgeon', 'Trevor', 'Fang', 'Norbert', 'Godric Gryffindor', 'Helga Hufflepuff', 'Salazar Slytherin', 'Godric Gryffindor', 'Helga Hufflepuff', 'Rowena Ravenclaw', 'Salazar Slytherin']\n",
      "The Modified List is ::  ['Buckbeak', 'Fluffy', 'Scabbers', 'Errol', 'Pigwidgeon', 'Trevor', 'Fang', 'Norbert', 'Godric Gryffindor', 'Helga Hufflepuff', 'Salazar Slytherin', 'Godric Gryffindor', 'Helga Hufflepuff', 'Rowena Ravenclaw']\n",
      "The Modified List is ::  ['Buckbeak', 'Fluffy', 'Scabbers', 'Errol', 'Pigwidgeon', 'Trevor', 'Fang', 'Norbert', 'Godric Gryffindor', 'Helga Hufflepuff', 'Salazar Slytherin', 'Godric Gryffindor', 'Helga Hufflepuff']\n"
     ]
    }
   ],
   "source": [
    "# removing elements from the list \n",
    "pet_names.remove('Rowena Ravenclaw')\n",
    "print(\"The Modified List is :: \",pet_names)\n",
    "\n",
    "#remove the last element from list\n",
    "pet_names.pop(-1)\n",
    "print(\"The Modified List is :: \",pet_names)\n",
    "pet_names.pop(-1)\n",
    "print(\"The Modified List is :: \",pet_names)"
   ]
  },
  {
   "cell_type": "code",
   "execution_count": 100,
   "id": "f08fc919",
   "metadata": {},
   "outputs": [],
   "source": [
    "# Delete or Clear the list\n",
    "del pet_names\n",
    "pet_names = [\"Buckbeak\",\"Crookshanks\",\"Errol\",\"Fang\"]"
   ]
  },
  {
   "cell_type": "code",
   "execution_count": 101,
   "id": "8e1c9393",
   "metadata": {},
   "outputs": [
    {
     "name": "stdout",
     "output_type": "stream",
     "text": [
      "Buckbeak\n",
      "Crookshanks\n",
      "Errol\n",
      "Fang\n"
     ]
    }
   ],
   "source": [
    "# Loop the eelements in the list \n",
    "for indv_name in pet_names:\n",
    "  print(indv_name)"
   ]
  },
  {
   "cell_type": "code",
   "execution_count": 104,
   "id": "c1aa85e9",
   "metadata": {},
   "outputs": [
    {
     "name": "stdout",
     "output_type": "stream",
     "text": [
      "Pet at the index 0 is Buckbeak \n",
      "Pet at the index 1 is Crookshanks \n",
      "Pet at the index 2 is Errol \n",
      "Pet at the index 3 is Fang \n",
      "Pet at the index 0 is Buckbeak \n",
      "Pet at the index 1 is Crookshanks \n",
      "Pet at the index 2 is Errol \n",
      "Pet at the index 3 is Fang \n"
     ]
    }
   ],
   "source": [
    "# Loop the elements in the list using index \n",
    "\n",
    "# Iterating the list using a for Loop\n",
    "for index in range(len(pet_names)):\n",
    "    print(\"Pet at the index {} is {} \".format(index,pet_names[index]))\n",
    "\n",
    "# Iterating the list using a While Loop    \n",
    "index = 0\n",
    "while index < len(pet_names):\n",
    "  print(\"Pet at the index {} is {} \".format(index,pet_names[index]))\n",
    "  index = index + 1"
   ]
  },
  {
   "cell_type": "code",
   "execution_count": 107,
   "id": "f69e73bb",
   "metadata": {},
   "outputs": [
    {
     "name": "stdout",
     "output_type": "stream",
     "text": [
      "Ascending Sort List ::  ['Buckbeak', 'Crookshanks', 'Errol', 'Fang']\n",
      "Descending Sort List ::  ['Fang', 'Errol', 'Crookshanks', 'Buckbeak']\n"
     ]
    }
   ],
   "source": [
    "# sort the elements in the list\n",
    "pet_names.sort()\n",
    "print(\"Ascending Sort List :: \",pet_names)\n",
    "pet_names.sort(reverse = True)\n",
    "print(\"Descending Sort List :: \",pet_names)"
   ]
  },
  {
   "cell_type": "code",
   "execution_count": 115,
   "id": "610b9e27",
   "metadata": {},
   "outputs": [
    {
     "name": "stdout",
     "output_type": "stream",
     "text": [
      "Customized Sort List ::  ['Fang', 'Errol', 'Buckbeak', 'Crookshanks']\n",
      "Case Insensitive Sort List ::  ['Buckbeak', 'Crookshanks', 'Errol', 'Fang']\n",
      "Case Sensitive Sort List ::  ['Buckbeak', 'Crookshanks', 'Errol', 'Fang']\n",
      "List in Reverse Order ::  ['Fang', 'Errol', 'Crookshanks', 'Buckbeak']\n"
     ]
    }
   ],
   "source": [
    "# define a customized sort function : Customizing the list based on the Length of the string\n",
    "def customized_sort(input_element):\n",
    "  return len(input_element)\n",
    "\n",
    "pet_names.sort(key = customized_sort)\n",
    "print(\"Customized Sort List :: \",pet_names)\n",
    "\n",
    "# Case Insensitive Sort by Using the default Sort function:\n",
    "pet_names.sort()\n",
    "print(\"Case Insensitive Sort List :: \",pet_names)\n",
    "\n",
    "# Case sensitive Sort by Using the default Sort function:\n",
    "pet_names.sort(key = str.upper)\n",
    "print(\"Case Sensitive Sort List :: \",pet_names)\n",
    "\n",
    "# print the list in reverse order\n",
    "pet_names.reverse()\n",
    "print(\"List in Reverse Order :: \",pet_names)"
   ]
  },
  {
   "cell_type": "code",
   "execution_count": 118,
   "id": "495c0895",
   "metadata": {},
   "outputs": [
    {
     "name": "stdout",
     "output_type": "stream",
     "text": [
      "The elements of the copied List are ::  ['Fang', 'Errol', 'Crookshanks', 'Buckbeak']\n",
      "The elements of the pet_names_coppy1 are ::  ['Fang', 'Errol', 'Crookshanks', 'Buckbeak']\n"
     ]
    }
   ],
   "source": [
    "# copy the elements of the list to new list in two ways using copy() function and list() constructor.\n",
    "pet_names_copy = pet_names.copy()\n",
    "print(\"The elements of the copied List are :: \",pet_names_copy)\n",
    "pet_names_coppy1 = list(pet_names_copy)\n",
    "print(\"The elements of the pet_names_coppy1 are :: \",pet_names_coppy1)"
   ]
  },
  {
   "cell_type": "code",
   "execution_count": 120,
   "id": "428ec1ae",
   "metadata": {},
   "outputs": [
    {
     "name": "stdout",
     "output_type": "stream",
     "text": [
      "The elements of second_pet_list ::  ['Crookshanks', 'Buckbeak', 'Fang', 'Errol']\n",
      "The elements of new_appended_list ::  ['Fang', 'Errol', 'Crookshanks', 'Buckbeak']\n",
      "The elements of first_pet_list ::  ['Fang', 'Errol', 'Crookshanks', 'Buckbeak']\n"
     ]
    }
   ],
   "source": [
    "# Join the contents of the list\n",
    "\n",
    "# approaqch one using a typical for loop , Iterate one list and append the element in the other list\n",
    "first_pet_list = ['Fang', 'Errol']\n",
    "second_pet_list = ['Crookshanks', 'Buckbeak']\n",
    "for element in first_pet_list:\n",
    "    second_pet_list.append(element)\n",
    "print(\"The elements of second_pet_list :: \",second_pet_list)\n",
    "\n",
    "# Using a simple concatenation operator \"+\"\n",
    "first_pet_list = ['Fang', 'Errol']\n",
    "second_pet_list = ['Crookshanks', 'Buckbeak']\n",
    "new_appended_list = first_pet_list + second_pet_list\n",
    "print(\"The elements of new_appended_list :: \",new_appended_list)\n",
    "\n",
    "# using an extend function to join two list\n",
    "first_pet_list.extend(second_pet_list)\n",
    "print(\"The elements of first_pet_list :: \",first_pet_list)"
   ]
  },
  {
   "cell_type": "code",
   "execution_count": null,
   "id": "2d0349dd",
   "metadata": {},
   "outputs": [],
   "source": []
  }
 ],
 "metadata": {
  "kernelspec": {
   "display_name": "Python 3 (ipykernel)",
   "language": "python",
   "name": "python3"
  },
  "language_info": {
   "codemirror_mode": {
    "name": "ipython",
    "version": 3
   },
   "file_extension": ".py",
   "mimetype": "text/x-python",
   "name": "python",
   "nbconvert_exporter": "python",
   "pygments_lexer": "ipython3",
   "version": "3.11.2"
  }
 },
 "nbformat": 4,
 "nbformat_minor": 5
}
