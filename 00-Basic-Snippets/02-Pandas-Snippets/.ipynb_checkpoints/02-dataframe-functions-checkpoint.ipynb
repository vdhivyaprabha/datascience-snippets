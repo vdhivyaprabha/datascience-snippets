{
 "cells": [
  {
   "cell_type": "code",
   "execution_count": 1,
   "id": "7a08c3f9",
   "metadata": {},
   "outputs": [],
   "source": [
    "import pandas as pd"
   ]
  },
  {
   "cell_type": "code",
   "execution_count": 2,
   "id": "62b45e80",
   "metadata": {},
   "outputs": [],
   "source": [
    "# reading data from the csv file using pandas\n",
    "nike_dataframe = pd.read_csv(\"data/nba.csv\", index_col =\"Name\")"
   ]
  },
  {
   "cell_type": "code",
   "execution_count": null,
   "id": "30bb905c",
   "metadata": {},
   "outputs": [],
   "source": []
  }
 ],
 "metadata": {
  "kernelspec": {
   "display_name": "Python 3 (ipykernel)",
   "language": "python",
   "name": "python3"
  },
  "language_info": {
   "codemirror_mode": {
    "name": "ipython",
    "version": 3
   },
   "file_extension": ".py",
   "mimetype": "text/x-python",
   "name": "python",
   "nbconvert_exporter": "python",
   "pygments_lexer": "ipython3",
   "version": "3.11.2"
  }
 },
 "nbformat": 4,
 "nbformat_minor": 5
}
