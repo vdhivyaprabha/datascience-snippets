{
 "cells": [
  {
   "cell_type": "code",
   "execution_count": 1,
   "id": "b9c473a7",
   "metadata": {},
   "outputs": [],
   "source": [
    "import pandas as pd"
   ]
  },
  {
   "cell_type": "code",
   "execution_count": 2,
   "id": "d44f67d9",
   "metadata": {},
   "outputs": [],
   "source": [
    "# Create a static list with predefined values\n",
    "ipl_list_instance = ['Chennai Super Kings',\"is\", 'Indian Premier League', 'based', 'chennai','tamilnadu',\"Owned by\", ' India Cements Limited']"
   ]
  },
  {
   "cell_type": "code",
   "execution_count": 3,
   "id": "82ef89ed",
   "metadata": {},
   "outputs": [
    {
     "name": "stdout",
     "output_type": "stream",
     "text": [
      "                        0\n",
      "0     Chennai Super Kings\n",
      "1                      is\n",
      "2   Indian Premier League\n",
      "3                   based\n",
      "4                 chennai\n",
      "5               tamilnadu\n",
      "6                Owned by\n",
      "7   India Cements Limited\n"
     ]
    }
   ],
   "source": [
    "df_instance = pd.DataFrame(ipl_list_instance)\n",
    "print(df_instance)"
   ]
  },
  {
   "cell_type": "code",
   "execution_count": 6,
   "id": "dd027c66",
   "metadata": {},
   "outputs": [],
   "source": [
    "# Create a Dictionary of Lists in Python.\n",
    "age_data = {'Name':['Harry', 'Sally'],'Age':[20, 15]}"
   ]
  },
  {
   "cell_type": "code",
   "execution_count": 7,
   "id": "8ee657ca",
   "metadata": {},
   "outputs": [
    {
     "name": "stdout",
     "output_type": "stream",
     "text": [
      "          Name  Age\n",
      "0  Karthikeyan   20\n",
      "1  Kathirvelan   15\n"
     ]
    }
   ],
   "source": [
    "age_dataframe = pd.DataFrame(age_data)\n",
    "print(age_dataframe)"
   ]
  },
  {
   "cell_type": "code",
   "execution_count": 12,
   "id": "4655e36a",
   "metadata": {},
   "outputs": [],
   "source": [
    "# Modify the dictionary to have additional columns and rows\n",
    "pl_df = {'Name':['Harry', 'Sally', \"Cally\"],'Age':[20, 15, 2],\"Address\":[\"Chennai\", \"Coimbatore\", \"Chennai\"],\n",
    "           \"Qualification\":[\"BE\",\"BCA\",\"BE\"]}"
   ]
  },
  {
   "cell_type": "code",
   "execution_count": 13,
   "id": "169e05aa",
   "metadata": {},
   "outputs": [
    {
     "name": "stdout",
     "output_type": "stream",
     "text": [
      "    Name  Age     Address Qualification\n",
      "0  Harry   20     Chennai            BE\n",
      "1  Sally   15  Coimbatore           BCA\n",
      "2  Cally    2     Chennai            BE\n"
     ]
    }
   ],
   "source": [
    "pl_dataframe = pd.DataFrame(pl_df)\n",
    "print(pl_dataframe)"
   ]
  },
  {
   "cell_type": "code",
   "execution_count": 14,
   "id": "d36b892e",
   "metadata": {},
   "outputs": [
    {
     "name": "stdout",
     "output_type": "stream",
     "text": [
      "    Name     Address\n",
      "0  Harry     Chennai\n",
      "1  Sally  Coimbatore\n",
      "2  Cally     Chennai\n"
     ]
    }
   ],
   "source": [
    "# Selecting Only two Columnbs from the dataframe\n",
    "print(pl_dataframe[[\"Name\",\"Address\"]])"
   ]
  },
  {
   "cell_type": "code",
   "execution_count": 16,
   "id": "fa67e72c",
   "metadata": {},
   "outputs": [],
   "source": [
    "# reading data from the csv file using pandas\n",
    "nike_dataframe = pd.read_csv(\"data/nba.csv\", index_col =\"Name\")"
   ]
  },
  {
   "cell_type": "code",
   "execution_count": 17,
   "id": "c08d410c",
   "metadata": {},
   "outputs": [
    {
     "data": {
      "text/html": [
       "<div>\n",
       "<style scoped>\n",
       "    .dataframe tbody tr th:only-of-type {\n",
       "        vertical-align: middle;\n",
       "    }\n",
       "\n",
       "    .dataframe tbody tr th {\n",
       "        vertical-align: top;\n",
       "    }\n",
       "\n",
       "    .dataframe thead th {\n",
       "        text-align: right;\n",
       "    }\n",
       "</style>\n",
       "<table border=\"1\" class=\"dataframe\">\n",
       "  <thead>\n",
       "    <tr style=\"text-align: right;\">\n",
       "      <th></th>\n",
       "      <th>Team</th>\n",
       "      <th>Number</th>\n",
       "      <th>Position</th>\n",
       "      <th>Age</th>\n",
       "      <th>Height</th>\n",
       "      <th>Weight</th>\n",
       "      <th>College</th>\n",
       "      <th>Salary</th>\n",
       "    </tr>\n",
       "    <tr>\n",
       "      <th>Name</th>\n",
       "      <th></th>\n",
       "      <th></th>\n",
       "      <th></th>\n",
       "      <th></th>\n",
       "      <th></th>\n",
       "      <th></th>\n",
       "      <th></th>\n",
       "      <th></th>\n",
       "    </tr>\n",
       "  </thead>\n",
       "  <tbody>\n",
       "    <tr>\n",
       "      <th>Avery Bradley</th>\n",
       "      <td>Boston Celtics</td>\n",
       "      <td>0.0</td>\n",
       "      <td>PG</td>\n",
       "      <td>25.0</td>\n",
       "      <td>6-2</td>\n",
       "      <td>180.0</td>\n",
       "      <td>Texas</td>\n",
       "      <td>7730337.0</td>\n",
       "    </tr>\n",
       "    <tr>\n",
       "      <th>Jae Crowder</th>\n",
       "      <td>Boston Celtics</td>\n",
       "      <td>99.0</td>\n",
       "      <td>SF</td>\n",
       "      <td>25.0</td>\n",
       "      <td>6-6</td>\n",
       "      <td>235.0</td>\n",
       "      <td>Marquette</td>\n",
       "      <td>6796117.0</td>\n",
       "    </tr>\n",
       "    <tr>\n",
       "      <th>John Holland</th>\n",
       "      <td>Boston Celtics</td>\n",
       "      <td>30.0</td>\n",
       "      <td>SG</td>\n",
       "      <td>27.0</td>\n",
       "      <td>6-5</td>\n",
       "      <td>205.0</td>\n",
       "      <td>Boston University</td>\n",
       "      <td>NaN</td>\n",
       "    </tr>\n",
       "    <tr>\n",
       "      <th>R.J. Hunter</th>\n",
       "      <td>Boston Celtics</td>\n",
       "      <td>28.0</td>\n",
       "      <td>SG</td>\n",
       "      <td>22.0</td>\n",
       "      <td>6-5</td>\n",
       "      <td>185.0</td>\n",
       "      <td>Georgia State</td>\n",
       "      <td>1148640.0</td>\n",
       "    </tr>\n",
       "    <tr>\n",
       "      <th>Jonas Jerebko</th>\n",
       "      <td>Boston Celtics</td>\n",
       "      <td>8.0</td>\n",
       "      <td>PF</td>\n",
       "      <td>29.0</td>\n",
       "      <td>6-10</td>\n",
       "      <td>231.0</td>\n",
       "      <td>NaN</td>\n",
       "      <td>5000000.0</td>\n",
       "    </tr>\n",
       "  </tbody>\n",
       "</table>\n",
       "</div>"
      ],
      "text/plain": [
       "                         Team  Number Position   Age Height  Weight  \\\n",
       "Name                                                                  \n",
       "Avery Bradley  Boston Celtics     0.0       PG  25.0    6-2   180.0   \n",
       "Jae Crowder    Boston Celtics    99.0       SF  25.0    6-6   235.0   \n",
       "John Holland   Boston Celtics    30.0       SG  27.0    6-5   205.0   \n",
       "R.J. Hunter    Boston Celtics    28.0       SG  22.0    6-5   185.0   \n",
       "Jonas Jerebko  Boston Celtics     8.0       PF  29.0   6-10   231.0   \n",
       "\n",
       "                         College     Salary  \n",
       "Name                                         \n",
       "Avery Bradley              Texas  7730337.0  \n",
       "Jae Crowder            Marquette  6796117.0  \n",
       "John Holland   Boston University        NaN  \n",
       "R.J. Hunter        Georgia State  1148640.0  \n",
       "Jonas Jerebko                NaN  5000000.0  "
      ]
     },
     "execution_count": 17,
     "metadata": {},
     "output_type": "execute_result"
    }
   ],
   "source": [
    "nike_dataframe.head()"
   ]
  },
  {
   "cell_type": "code",
   "execution_count": 18,
   "id": "2f890385",
   "metadata": {},
   "outputs": [],
   "source": [
    "# Retriving the row by refering the name, as we have an index set at Name.\n",
    "jae_data = nike_dataframe.loc[\"Jae Crowder\"]"
   ]
  },
  {
   "cell_type": "code",
   "execution_count": 19,
   "id": "0e0ef07b",
   "metadata": {},
   "outputs": [
    {
     "name": "stdout",
     "output_type": "stream",
     "text": [
      "Team        Boston Celtics\n",
      "Number                99.0\n",
      "Position                SF\n",
      "Age                   25.0\n",
      "Height                 6-6\n",
      "Weight               235.0\n",
      "College          Marquette\n",
      "Salary           6796117.0\n",
      "Name: Jae Crowder, dtype: object\n"
     ]
    }
   ],
   "source": [
    "print(jae_data)"
   ]
  },
  {
   "cell_type": "code",
   "execution_count": 20,
   "id": "a9467f00",
   "metadata": {},
   "outputs": [],
   "source": [
    "# Displaying Specific row from the dataframe\n",
    "age_series = nike_dataframe[\"Age\"]"
   ]
  },
  {
   "cell_type": "code",
   "execution_count": 22,
   "id": "a2945463",
   "metadata": {},
   "outputs": [
    {
     "name": "stdout",
     "output_type": "stream",
     "text": [
      "Name\n",
      "Avery Bradley    25.0\n",
      "Jae Crowder      25.0\n",
      "Name: Age, dtype: float64\n"
     ]
    }
   ],
   "source": [
    "print(age_series.head(2))"
   ]
  },
  {
   "cell_type": "code",
   "execution_count": 23,
   "id": "95b06714",
   "metadata": {},
   "outputs": [
    {
     "data": {
      "text/html": [
       "<div>\n",
       "<style scoped>\n",
       "    .dataframe tbody tr th:only-of-type {\n",
       "        vertical-align: middle;\n",
       "    }\n",
       "\n",
       "    .dataframe tbody tr th {\n",
       "        vertical-align: top;\n",
       "    }\n",
       "\n",
       "    .dataframe thead th {\n",
       "        text-align: right;\n",
       "    }\n",
       "</style>\n",
       "<table border=\"1\" class=\"dataframe\">\n",
       "  <thead>\n",
       "    <tr style=\"text-align: right;\">\n",
       "      <th></th>\n",
       "      <th>Team</th>\n",
       "      <th>Number</th>\n",
       "      <th>Position</th>\n",
       "      <th>Age</th>\n",
       "      <th>Height</th>\n",
       "      <th>Weight</th>\n",
       "      <th>College</th>\n",
       "      <th>Salary</th>\n",
       "    </tr>\n",
       "    <tr>\n",
       "      <th>Name</th>\n",
       "      <th></th>\n",
       "      <th></th>\n",
       "      <th></th>\n",
       "      <th></th>\n",
       "      <th></th>\n",
       "      <th></th>\n",
       "      <th></th>\n",
       "      <th></th>\n",
       "    </tr>\n",
       "  </thead>\n",
       "  <tbody>\n",
       "    <tr>\n",
       "      <th>Avery Bradley</th>\n",
       "      <td>False</td>\n",
       "      <td>False</td>\n",
       "      <td>False</td>\n",
       "      <td>False</td>\n",
       "      <td>False</td>\n",
       "      <td>False</td>\n",
       "      <td>False</td>\n",
       "      <td>False</td>\n",
       "    </tr>\n",
       "    <tr>\n",
       "      <th>Jae Crowder</th>\n",
       "      <td>False</td>\n",
       "      <td>False</td>\n",
       "      <td>False</td>\n",
       "      <td>False</td>\n",
       "      <td>False</td>\n",
       "      <td>False</td>\n",
       "      <td>False</td>\n",
       "      <td>False</td>\n",
       "    </tr>\n",
       "    <tr>\n",
       "      <th>John Holland</th>\n",
       "      <td>False</td>\n",
       "      <td>False</td>\n",
       "      <td>False</td>\n",
       "      <td>False</td>\n",
       "      <td>False</td>\n",
       "      <td>False</td>\n",
       "      <td>False</td>\n",
       "      <td>True</td>\n",
       "    </tr>\n",
       "    <tr>\n",
       "      <th>R.J. Hunter</th>\n",
       "      <td>False</td>\n",
       "      <td>False</td>\n",
       "      <td>False</td>\n",
       "      <td>False</td>\n",
       "      <td>False</td>\n",
       "      <td>False</td>\n",
       "      <td>False</td>\n",
       "      <td>False</td>\n",
       "    </tr>\n",
       "    <tr>\n",
       "      <th>Jonas Jerebko</th>\n",
       "      <td>False</td>\n",
       "      <td>False</td>\n",
       "      <td>False</td>\n",
       "      <td>False</td>\n",
       "      <td>False</td>\n",
       "      <td>False</td>\n",
       "      <td>True</td>\n",
       "      <td>False</td>\n",
       "    </tr>\n",
       "    <tr>\n",
       "      <th>...</th>\n",
       "      <td>...</td>\n",
       "      <td>...</td>\n",
       "      <td>...</td>\n",
       "      <td>...</td>\n",
       "      <td>...</td>\n",
       "      <td>...</td>\n",
       "      <td>...</td>\n",
       "      <td>...</td>\n",
       "    </tr>\n",
       "    <tr>\n",
       "      <th>Shelvin Mack</th>\n",
       "      <td>False</td>\n",
       "      <td>False</td>\n",
       "      <td>False</td>\n",
       "      <td>False</td>\n",
       "      <td>False</td>\n",
       "      <td>False</td>\n",
       "      <td>False</td>\n",
       "      <td>False</td>\n",
       "    </tr>\n",
       "    <tr>\n",
       "      <th>Raul Neto</th>\n",
       "      <td>False</td>\n",
       "      <td>False</td>\n",
       "      <td>False</td>\n",
       "      <td>False</td>\n",
       "      <td>False</td>\n",
       "      <td>False</td>\n",
       "      <td>True</td>\n",
       "      <td>False</td>\n",
       "    </tr>\n",
       "    <tr>\n",
       "      <th>Tibor Pleiss</th>\n",
       "      <td>False</td>\n",
       "      <td>False</td>\n",
       "      <td>False</td>\n",
       "      <td>False</td>\n",
       "      <td>False</td>\n",
       "      <td>False</td>\n",
       "      <td>True</td>\n",
       "      <td>False</td>\n",
       "    </tr>\n",
       "    <tr>\n",
       "      <th>Jeff Withey</th>\n",
       "      <td>False</td>\n",
       "      <td>False</td>\n",
       "      <td>False</td>\n",
       "      <td>False</td>\n",
       "      <td>False</td>\n",
       "      <td>False</td>\n",
       "      <td>False</td>\n",
       "      <td>False</td>\n",
       "    </tr>\n",
       "    <tr>\n",
       "      <th>NaN</th>\n",
       "      <td>True</td>\n",
       "      <td>True</td>\n",
       "      <td>True</td>\n",
       "      <td>True</td>\n",
       "      <td>True</td>\n",
       "      <td>True</td>\n",
       "      <td>True</td>\n",
       "      <td>True</td>\n",
       "    </tr>\n",
       "  </tbody>\n",
       "</table>\n",
       "<p>458 rows × 8 columns</p>\n",
       "</div>"
      ],
      "text/plain": [
       "                Team  Number  Position    Age  Height  Weight  College  Salary\n",
       "Name                                                                          \n",
       "Avery Bradley  False   False     False  False   False   False    False   False\n",
       "Jae Crowder    False   False     False  False   False   False    False   False\n",
       "John Holland   False   False     False  False   False   False    False    True\n",
       "R.J. Hunter    False   False     False  False   False   False    False   False\n",
       "Jonas Jerebko  False   False     False  False   False   False     True   False\n",
       "...              ...     ...       ...    ...     ...     ...      ...     ...\n",
       "Shelvin Mack   False   False     False  False   False   False    False   False\n",
       "Raul Neto      False   False     False  False   False   False     True   False\n",
       "Tibor Pleiss   False   False     False  False   False   False     True   False\n",
       "Jeff Withey    False   False     False  False   False   False    False   False\n",
       "NaN             True    True      True   True    True    True     True    True\n",
       "\n",
       "[458 rows x 8 columns]"
      ]
     },
     "execution_count": 23,
     "metadata": {},
     "output_type": "execute_result"
    }
   ],
   "source": [
    "# Check if there are missing values in the dataframe.\n",
    "nike_dataframe.isnull()"
   ]
  },
  {
   "cell_type": "code",
   "execution_count": 27,
   "id": "f145f439",
   "metadata": {},
   "outputs": [
    {
     "name": "stdout",
     "output_type": "stream",
     "text": [
      "Team        Boston Celtics\n",
      "Number                 0.0\n",
      "Position                PG\n",
      "Age                   25.0\n",
      "Height                 6-2\n",
      "Weight               180.0\n",
      "College              Texas\n",
      "Salary           7730337.0\n",
      "Name: Avery Bradley, dtype: object\n",
      "Team        Boston Celtics\n",
      "Number                99.0\n",
      "Position                SF\n",
      "Age                   25.0\n",
      "Height                 6-6\n",
      "Weight               235.0\n",
      "College          Marquette\n",
      "Salary           6796117.0\n",
      "Name: Jae Crowder, dtype: object\n",
      "Team           Boston Celtics\n",
      "Number                   30.0\n",
      "Position                   SG\n",
      "Age                      27.0\n",
      "Height                    6-5\n",
      "Weight                  205.0\n",
      "College     Boston University\n",
      "Salary                    NaN\n",
      "Name: John Holland, dtype: object\n"
     ]
    }
   ],
   "source": [
    "# How to iterate over rows and columns in Pandas\n",
    "for first, second in nike_dataframe.head(3).iterrows():\n",
    "    print(second)"
   ]
  },
  {
   "cell_type": "code",
   "execution_count": null,
   "id": "9f0d696f",
   "metadata": {},
   "outputs": [],
   "source": []
  }
 ],
 "metadata": {
  "kernelspec": {
   "display_name": "Python 3 (ipykernel)",
   "language": "python",
   "name": "python3"
  },
  "language_info": {
   "codemirror_mode": {
    "name": "ipython",
    "version": 3
   },
   "file_extension": ".py",
   "mimetype": "text/x-python",
   "name": "python",
   "nbconvert_exporter": "python",
   "pygments_lexer": "ipython3",
   "version": "3.11.2"
  }
 },
 "nbformat": 4,
 "nbformat_minor": 5
}
