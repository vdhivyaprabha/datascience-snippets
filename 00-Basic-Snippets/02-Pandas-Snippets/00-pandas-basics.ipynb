{
 "cells": [
  {
   "cell_type": "code",
   "execution_count": 6,
   "id": "190e9c28",
   "metadata": {},
   "outputs": [],
   "source": [
    "import pandas as pd\n",
    "import numpy as np"
   ]
  },
  {
   "cell_type": "code",
   "execution_count": 7,
   "id": "d1a22dfb",
   "metadata": {},
   "outputs": [],
   "source": [
    "import warnings\n",
    "warnings.filterwarnings(\"ignore\")"
   ]
  },
  {
   "cell_type": "code",
   "execution_count": 8,
   "id": "af94f403",
   "metadata": {},
   "outputs": [
    {
     "name": "stdout",
     "output_type": "stream",
     "text": [
      "Series([], dtype: float64)\n"
     ]
    }
   ],
   "source": [
    "#creating a serioes Instance\n",
    "series_instance = pd.Series()\n",
    "print(series_instance)"
   ]
  },
  {
   "cell_type": "code",
   "execution_count": 9,
   "id": "38a2e61d",
   "metadata": {},
   "outputs": [
    {
     "name": "stdout",
     "output_type": "stream",
     "text": [
      "0    a\n",
      "1    e\n",
      "2    i\n",
      "3    o\n",
      "4    u\n",
      "dtype: object\n"
     ]
    }
   ],
   "source": [
    "# Create aan array using Numpy and then use the array to create a series.\n",
    "data = np.array(['a', 'e', 'i', 'o', 'u'])\n",
    "series_instance = pd.Series(data)\n",
    "print(series_instance)"
   ]
  },
  {
   "cell_type": "markdown",
   "id": "28a08d7e",
   "metadata": {},
   "source": [
    "Pandas DataFrame is a two-dimensional size-mutable, potentially heterogeneous tabular data structure with labeled axes (rows and columns)."
   ]
  },
  {
   "cell_type": "code",
   "execution_count": 10,
   "id": "942978bc",
   "metadata": {},
   "outputs": [
    {
     "name": "stdout",
     "output_type": "stream",
     "text": [
      "Empty DataFrame\n",
      "Columns: []\n",
      "Index: []\n"
     ]
    }
   ],
   "source": [
    "# Create an empty dataframe\n",
    "df_instance = pd.DataFrame()\n",
    "print(df_instance)"
   ]
  },
  {
   "cell_type": "code",
   "execution_count": 13,
   "id": "d8876c20",
   "metadata": {},
   "outputs": [],
   "source": [
    "# Create a static list with predefined values\n",
    "ipl_list_instance = ['Chennai Super Kings',\"is\", 'Indian Premier League', 'based', 'chennai','tamilnadu',\"Owned by\", ' India Cements Limited']"
   ]
  },
  {
   "cell_type": "code",
   "execution_count": 14,
   "id": "4be7558e",
   "metadata": {},
   "outputs": [
    {
     "name": "stdout",
     "output_type": "stream",
     "text": [
      "                        0\n",
      "0     Chennai Super Kings\n",
      "1                      is\n",
      "2   Indian Premier League\n",
      "3                   based\n",
      "4                 chennai\n",
      "5               tamilnadu\n",
      "6                Owned by\n",
      "7   India Cements Limited\n"
     ]
    }
   ],
   "source": [
    "# convert the list to dataframe values\n",
    "df_instance = pd.DataFrame(ipl_list_instance)\n",
    "print(df_instance)"
   ]
  },
  {
   "cell_type": "code",
   "execution_count": null,
   "id": "10da9b57",
   "metadata": {},
   "outputs": [],
   "source": []
  }
 ],
 "metadata": {
  "kernelspec": {
   "display_name": "Python 3 (ipykernel)",
   "language": "python",
   "name": "python3"
  },
  "language_info": {
   "codemirror_mode": {
    "name": "ipython",
    "version": 3
   },
   "file_extension": ".py",
   "mimetype": "text/x-python",
   "name": "python",
   "nbconvert_exporter": "python",
   "pygments_lexer": "ipython3",
   "version": "3.11.2"
  }
 },
 "nbformat": 4,
 "nbformat_minor": 5
}
